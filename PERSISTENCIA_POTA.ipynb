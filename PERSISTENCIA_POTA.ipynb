{
  "nbformat": 4,
  "nbformat_minor": 0,
  "metadata": {
    "colab": {
      "provenance": [],
      "authorship_tag": "ABX9TyMWpaKs/60Rb93X+JlOkC6s",
      "include_colab_link": true
    },
    "kernelspec": {
      "name": "python3",
      "display_name": "Python 3"
    },
    "language_info": {
      "name": "python"
    }
  },
  "cells": [
    {
      "cell_type": "markdown",
      "metadata": {
        "id": "view-in-github",
        "colab_type": "text"
      },
      "source": [
        "<a href=\"https://colab.research.google.com/github/natanrubeval/flutter_application_2/blob/main/PERSISTENCIA_POTA.ipynb\" target=\"_parent\"><img src=\"https://colab.research.google.com/assets/colab-badge.svg\" alt=\"Open In Colab\"/></a>"
      ]
    },
    {
      "cell_type": "code",
      "execution_count": null,
      "metadata": {
        "id": "SPP_cg4dQwSB"
      },
      "outputs": [],
      "source": [
        "dados=[\"cliente1\",\"cliente2\",\"cliente3\",\"cliente4\",\"cliente5\",\"cliente6\"]"
      ]
    }
  ]
}