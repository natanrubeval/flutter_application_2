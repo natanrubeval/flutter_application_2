{
  "nbformat": 4,
  "nbformat_minor": 0,
  "metadata": {
    "colab": {
      "provenance": [],
      "authorship_tag": "ABX9TyNkhHF3JDpWKpwdVy0XIien",
      "include_colab_link": true
    },
    "kernelspec": {
      "name": "python3",
      "display_name": "Python 3"
    },
    "language_info": {
      "name": "python"
    }
  },
  "cells": [
    {
      "cell_type": "markdown",
      "metadata": {
        "id": "view-in-github",
        "colab_type": "text"
      },
      "source": [
        "<a href=\"https://colab.research.google.com/github/natanrubeval/flutter_application_2/blob/main/PERSISTENCIA_POTA.ipynb\" target=\"_parent\"><img src=\"https://colab.research.google.com/assets/colab-badge.svg\" alt=\"Open In Colab\"/></a>"
      ]
    },
    {
      "cell_type": "code",
      "execution_count": 4,
      "metadata": {
        "colab": {
          "base_uri": "https://localhost:8080/"
        },
        "id": "SPP_cg4dQwSB",
        "outputId": "cf6920f6-2c5c-4ca0-eb04-8904ca27f1ac"
      },
      "outputs": [
        {
          "output_type": "stream",
          "name": "stdout",
          "text": [
            "dados salvar em clientes.txt\n"
          ]
        }
      ],
      "source": [
        "dados=[\"cliente1\",\"cliente2\",\"cliente3\",\"cliente4\",\"cliente5\",\"cliente6\"]\n",
        "with open(\"cliente.txt\", \"w\") as arquivo:\n",
        "   for item in dados:\n",
        "    arquivo.write(item+\"\\n\")\n",
        "\n",
        "print(\"dados salvar em clientes.txt\")"
      ]
    }
  ]
}